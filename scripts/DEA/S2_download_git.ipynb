{
 "cells": [
  {
   "cell_type": "markdown",
   "metadata": {},
   "source": [
    "# Sentinel-2 <img align=\"right\" src=\"../Supplementary_data/DE_Africa_Logo_Stacked_RGB_small.jpg\">\n",
    "\n",
    "* **Products used:** \n",
    "[s2_l2a](https://explorer.digitalearth.africa/s2_l2a)\n"
   ]
  },
  {
   "cell_type": "markdown",
   "metadata": {},
   "source": [
    "## Description\n",
    "\n",
    "1. This notebook is used to download Sentinel-2 imagery for sites where Arable Mark sensors are installed, using a 0.0025 degree rectangular buffer.\n",
    "2. The script requires a .csv file with site locations and dates, \"DEA_site_seasons.csv\"\n",
    "3. S2 images are downloaded to the 'dea_export_s2' folder, which is then converted to a zip archive.\n",
    "4. You must then maually download the zip archive.\n",
    "\n",
    "\n",
    "\n",
    "***"
   ]
  },
  {
   "cell_type": "markdown",
   "metadata": {},
   "source": [
    "### Load packages"
   ]
  },
  {
   "cell_type": "code",
   "execution_count": 1,
   "metadata": {},
   "outputs": [],
   "source": [
    "import datacube\n",
    "\n",
    "from deafrica_tools.datahandling import load_ard\n",
    "from deafrica_tools.plotting import rgb"
   ]
  },
  {
   "cell_type": "markdown",
   "metadata": {},
   "source": [
    "### Connect to the datacube"
   ]
  },
  {
   "cell_type": "code",
   "execution_count": 2,
   "metadata": {},
   "outputs": [],
   "source": [
    "%matplotlib inline\n",
    "\n",
    "import datacube\n",
    "from datacube.utils.cog import write_cog\n",
    "\n",
    "from deafrica_tools.datahandling import load_ard\n",
    "from deafrica_tools.plotting import rgb\n",
    "import pandas as pd"
   ]
  },
  {
   "cell_type": "code",
   "execution_count": 3,
   "metadata": {},
   "outputs": [],
   "source": [
    "dc = datacube.Datacube(app='Exporting_GeoTIFFs')"
   ]
  },
  {
   "cell_type": "code",
   "execution_count": 4,
   "metadata": {},
   "outputs": [
    {
     "data": {
      "text/html": [
       "<div>\n",
       "<style scoped>\n",
       "    .dataframe tbody tr th:only-of-type {\n",
       "        vertical-align: middle;\n",
       "    }\n",
       "\n",
       "    .dataframe tbody tr th {\n",
       "        vertical-align: top;\n",
       "    }\n",
       "\n",
       "    .dataframe thead th {\n",
       "        text-align: right;\n",
       "    }\n",
       "</style>\n",
       "<table border=\"1\" class=\"dataframe\">\n",
       "  <thead>\n",
       "    <tr style=\"text-align: right;\">\n",
       "      <th></th>\n",
       "      <th>Location</th>\n",
       "      <th>new_start</th>\n",
       "      <th>new_end</th>\n",
       "      <th>X</th>\n",
       "      <th>lon</th>\n",
       "      <th>lat</th>\n",
       "      <th>Pod1</th>\n",
       "      <th>Pod2</th>\n",
       "      <th>Pod3</th>\n",
       "      <th>Group</th>\n",
       "      <th>start_date</th>\n",
       "      <th>end_date</th>\n",
       "      <th>Ortho</th>\n",
       "      <th>Scene</th>\n",
       "      <th>order_id_s_h</th>\n",
       "      <th>Valid_season?</th>\n",
       "      <th>Multiple_seasons?</th>\n",
       "    </tr>\n",
       "  </thead>\n",
       "  <tbody>\n",
       "    <tr>\n",
       "      <th>0</th>\n",
       "      <td>choma_A000127</td>\n",
       "      <td>2017-09-02</td>\n",
       "      <td>2018-03-02</td>\n",
       "      <td>22</td>\n",
       "      <td>27.0922</td>\n",
       "      <td>-16.7795</td>\n",
       "      <td>A000127</td>\n",
       "      <td>NaN</td>\n",
       "      <td>NaN</td>\n",
       "      <td>choma</td>\n",
       "      <td>11/01/2017</td>\n",
       "      <td>05/31/2018</td>\n",
       "      <td>0</td>\n",
       "      <td>85</td>\n",
       "      <td>0d688599-b6bb-47d8-a3cd-a6a8d736ec5b</td>\n",
       "      <td>NaN</td>\n",
       "      <td>NaN</td>\n",
       "    </tr>\n",
       "    <tr>\n",
       "      <th>1</th>\n",
       "      <td>choma_A000127</td>\n",
       "      <td>2018-03-02</td>\n",
       "      <td>2018-07-30</td>\n",
       "      <td>22</td>\n",
       "      <td>27.0922</td>\n",
       "      <td>-16.7795</td>\n",
       "      <td>A000127</td>\n",
       "      <td>NaN</td>\n",
       "      <td>NaN</td>\n",
       "      <td>choma</td>\n",
       "      <td>11/01/2017</td>\n",
       "      <td>05/31/2018</td>\n",
       "      <td>0</td>\n",
       "      <td>85</td>\n",
       "      <td>0d688599-b6bb-47d8-a3cd-a6a8d736ec5b</td>\n",
       "      <td>NaN</td>\n",
       "      <td>NaN</td>\n",
       "    </tr>\n",
       "    <tr>\n",
       "      <th>2</th>\n",
       "      <td>choma_A000212</td>\n",
       "      <td>2017-09-02</td>\n",
       "      <td>2018-03-02</td>\n",
       "      <td>23</td>\n",
       "      <td>26.9253</td>\n",
       "      <td>-16.8294</td>\n",
       "      <td>A000212</td>\n",
       "      <td>NaN</td>\n",
       "      <td>NaN</td>\n",
       "      <td>choma</td>\n",
       "      <td>11/01/2017</td>\n",
       "      <td>05/31/2018</td>\n",
       "      <td>0</td>\n",
       "      <td>2</td>\n",
       "      <td>97cfdbe9-39d1-41ab-8e6e-3d355b598b85</td>\n",
       "      <td>NaN</td>\n",
       "      <td>NaN</td>\n",
       "    </tr>\n",
       "    <tr>\n",
       "      <th>3</th>\n",
       "      <td>choma_A000212</td>\n",
       "      <td>2018-03-02</td>\n",
       "      <td>2018-07-30</td>\n",
       "      <td>23</td>\n",
       "      <td>26.9253</td>\n",
       "      <td>-16.8294</td>\n",
       "      <td>A000212</td>\n",
       "      <td>NaN</td>\n",
       "      <td>NaN</td>\n",
       "      <td>choma</td>\n",
       "      <td>11/01/2017</td>\n",
       "      <td>05/31/2018</td>\n",
       "      <td>0</td>\n",
       "      <td>2</td>\n",
       "      <td>97cfdbe9-39d1-41ab-8e6e-3d355b598b85</td>\n",
       "      <td>NaN</td>\n",
       "      <td>NaN</td>\n",
       "    </tr>\n",
       "    <tr>\n",
       "      <th>4</th>\n",
       "      <td>choma_A000247</td>\n",
       "      <td>2017-09-02</td>\n",
       "      <td>2018-03-02</td>\n",
       "      <td>24</td>\n",
       "      <td>27.1179</td>\n",
       "      <td>-16.7724</td>\n",
       "      <td>A000247</td>\n",
       "      <td>NaN</td>\n",
       "      <td>NaN</td>\n",
       "      <td>choma</td>\n",
       "      <td>11/01/2017</td>\n",
       "      <td>05/31/2018</td>\n",
       "      <td>0</td>\n",
       "      <td>76</td>\n",
       "      <td>95c69caa-67fa-405f-ae2d-0456838c7272</td>\n",
       "      <td>NaN</td>\n",
       "      <td>NaN</td>\n",
       "    </tr>\n",
       "  </tbody>\n",
       "</table>\n",
       "</div>"
      ],
      "text/plain": [
       "        Location   new_start     new_end   X      lon      lat     Pod1 Pod2  \\\n",
       "0  choma_A000127  2017-09-02  2018-03-02  22  27.0922 -16.7795  A000127  NaN   \n",
       "1  choma_A000127  2018-03-02  2018-07-30  22  27.0922 -16.7795  A000127  NaN   \n",
       "2  choma_A000212  2017-09-02  2018-03-02  23  26.9253 -16.8294  A000212  NaN   \n",
       "3  choma_A000212  2018-03-02  2018-07-30  23  26.9253 -16.8294  A000212  NaN   \n",
       "4  choma_A000247  2017-09-02  2018-03-02  24  27.1179 -16.7724  A000247  NaN   \n",
       "\n",
       "   Pod3  Group  start_date    end_date  Ortho  Scene  \\\n",
       "0   NaN  choma  11/01/2017  05/31/2018      0     85   \n",
       "1   NaN  choma  11/01/2017  05/31/2018      0     85   \n",
       "2   NaN  choma  11/01/2017  05/31/2018      0      2   \n",
       "3   NaN  choma  11/01/2017  05/31/2018      0      2   \n",
       "4   NaN  choma  11/01/2017  05/31/2018      0     76   \n",
       "\n",
       "                           order_id_s_h  Valid_season?  Multiple_seasons?  \n",
       "0  0d688599-b6bb-47d8-a3cd-a6a8d736ec5b            NaN                NaN  \n",
       "1  0d688599-b6bb-47d8-a3cd-a6a8d736ec5b            NaN                NaN  \n",
       "2  97cfdbe9-39d1-41ab-8e6e-3d355b598b85            NaN                NaN  \n",
       "3  97cfdbe9-39d1-41ab-8e6e-3d355b598b85            NaN                NaN  \n",
       "4  95c69caa-67fa-405f-ae2d-0456838c7272            NaN                NaN  "
      ]
     },
     "execution_count": 4,
     "metadata": {},
     "output_type": "execute_result"
    }
   ],
   "source": [
    "\n",
    "dea_sites = pd.read_csv(\"/home/jovyan/Datasets/DEA_site_seasons.csv\")\n",
    "dea_sites.head(5)"
   ]
  },
  {
   "cell_type": "markdown",
   "metadata": {},
   "source": [
    "Query and save S2 files"
   ]
  },
  {
   "cell_type": "code",
   "execution_count": null,
   "metadata": {},
   "outputs": [],
   "source": [
    "for k in range(2):\n",
    "    print(k)\n",
    "    site_name = dea_sites.loc[k]['Location']\n",
    "    print(site_name)\n",
    "    xmin = dea_sites.loc[k]['lon'] - 0.0025\n",
    "    xmax = dea_sites.loc[k]['lon'] + 0.0025\n",
    "    ymin = dea_sites.loc[k]['lat'] - 0.0025\n",
    "    ymax = dea_sites.loc[k]['lat'] + 0.0025\n",
    "    date_min = dea_sites.loc[k]['new_start']\n",
    "    date_max = dea_sites.loc[k]['new_end']\n",
    "\n",
    "    query = {\n",
    "        'x': (xmin, xmax),\n",
    "        'y': (ymin, ymax),\n",
    "        'time': (date_min, date_max),\n",
    "        'resolution': (-10, 10),\n",
    " #   'measurements': ['red', 'green', 'blue'],\n",
    "        'output_crs':'EPSG:6933'\n",
    "    }\n",
    "    print(query)\n",
    "    \n",
    "    ds = load_ard(dc=dc,\n",
    "              products=['s2_l2a'],\n",
    "              **query)\n",
    "# Load available data from Landsat 8 and filter to retain only times\n",
    "# with at least 50% good data\n",
    "    print(str(len(ds.time)) +  \" images\")\n",
    "\n",
    "    for i in range(len(ds.time)):\n",
    "        \n",
    "    # We will use the date of the satellite image to name the GeoTIFF\n",
    "        date = ds.isel(time=i).time.dt.strftime('%Y-%m-%d').data\n",
    "        print(i)\n",
    "        print(f'Writing {date}')\n",
    "\n",
    "    # Convert current time step into a `xarray.DataArray`\n",
    "        singleTimestamp = ds.isel(time=i).to_array()\n",
    "        write_cog(singleTimestamp,\n",
    "              fname= \"/home/jovyan/Datasets/dea_export_s2/\" + site_name + \"_\" + f'{date}.tif',\n",
    "              overwrite=True)\n",
    "\n",
    "\n"
   ]
  },
  {
   "cell_type": "code",
   "execution_count": null,
   "metadata": {},
   "outputs": [],
   "source": [
    "print(ds.variables)\n",
    "da = ds.to_array()\n",
    "da"
   ]
  },
  {
   "cell_type": "markdown",
   "metadata": {},
   "source": [
    "Create zip archive of S2 imagery"
   ]
  },
  {
   "cell_type": "code",
   "execution_count": 12,
   "metadata": {},
   "outputs": [
    {
     "data": {
      "text/plain": [
       "'/home/jovyan/Datasets/dea_s1.zip'"
      ]
     },
     "execution_count": 12,
     "metadata": {},
     "output_type": "execute_result"
    }
   ],
   "source": [
    "import shutil\n",
    "shutil.make_archive(\"dea_s2\", 'zip', \"/home/jovyan/Datasets/dea_export_s2\")\n",
    "#shutil.make_archive(\"dea_s1\", 'zip', \"/home/jovyan/Datasets/dea_export_s1\")"
   ]
  },
  {
   "cell_type": "markdown",
   "metadata": {},
   "source": [
    "After archive is created, manually download zip "
   ]
  },
  {
   "cell_type": "code",
   "execution_count": null,
   "metadata": {},
   "outputs": [],
   "source": []
  }
 ],
 "metadata": {
  "kernelspec": {
   "display_name": "Python 3 (ipykernel)",
   "language": "python",
   "name": "python3"
  },
  "language_info": {
   "codemirror_mode": {
    "name": "ipython",
    "version": 3
   },
   "file_extension": ".py",
   "mimetype": "text/x-python",
   "name": "python",
   "nbconvert_exporter": "python",
   "pygments_lexer": "ipython3",
   "version": "3.10.12"
  },
  "widgets": {
   "application/vnd.jupyter.widget-state+json": {
    "state": {
     "1c7795a34baf4061a4170bcc11b19c01": {
      "model_module": "jupyter-leaflet",
      "model_module_version": "^0.11.1",
      "model_name": "LeafletZoomControlModel",
      "state": {
       "_model_module_version": "^0.11.1",
       "_view_count": null,
       "_view_module_version": "^0.11.1",
       "options": [
        "position",
        "zoom_in_text",
        "zoom_in_title",
        "zoom_out_text",
        "zoom_out_title"
       ]
      }
     },
     "d93582520e024946b4ef75064d893267": {
      "model_module": "jupyter-leaflet",
      "model_module_version": "^0.11.1",
      "model_name": "LeafletAttributionControlModel",
      "state": {
       "_model_module_version": "^0.11.1",
       "_view_count": null,
       "_view_module_version": "^0.11.1",
       "options": [
        "position",
        "prefix"
       ],
       "position": "bottomright",
       "prefix": "Leaflet"
      }
     }
    },
    "version_major": 2,
    "version_minor": 0
   }
  }
 },
 "nbformat": 4,
 "nbformat_minor": 4
}
