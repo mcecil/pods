{
  "cells": [
    {
      "cell_type": "markdown",
      "source": [
        "This script is used to extract values for VIIRS surface reflectance (NOAA/VIIRS/001/VNP09GA) from site locations.\n",
        "\n",
        "It requires a site location file, \"new_site_data_o.csv\"\n",
        "\n",
        "Values are exported as .csv files for each site, after being extracted at point locations. Although we provide options to extract values for other collections (Sentinel-1, 2 etc.), we only use this script for VIIRS surface reflectance, as other collections require different processing.\n",
        "\n",
        "Files are saved to Google Drive in a folder \"batch_export_sept_23\" (or rename)."
      ],
      "metadata": {
        "id": "yCxwiUjXDCXO"
      }
    },
    {
      "cell_type": "code",
      "execution_count": null,
      "metadata": {
        "id": "AOvxAFOy6i5N"
      },
      "outputs": [],
      "source": [
        "!pip install geemap\n"
      ]
    },
    {
      "cell_type": "code",
      "execution_count": null,
      "metadata": {
        "id": "Mf7K5z9X6W1z"
      },
      "outputs": [],
      "source": [
        "import ee\n",
        "import geemap\n",
        "import os\n",
        "import pandas as pd"
      ]
    },
    {
      "cell_type": "code",
      "execution_count": null,
      "metadata": {
        "id": "DNDE93uW6ZFB"
      },
      "outputs": [],
      "source": [
        "Map = geemap.Map()\n",
        "Map"
      ]
    },
    {
      "cell_type": "code",
      "execution_count": null,
      "metadata": {
        "colab": {
          "base_uri": "https://localhost:8080/"
        },
        "id": "aLPqeh5rYeV5",
        "outputId": "e901a815-7201-43a2-cdfc-043752b2c557"
      },
      "outputs": [
        {
          "output_type": "stream",
          "name": "stdout",
          "text": [
            "Mounted at /content/gdrive\n"
          ]
        }
      ],
      "source": [
        "from google.colab import drive\n",
        "drive.mount(\"/content/gdrive\")"
      ]
    },
    {
      "cell_type": "markdown",
      "source": [
        "Load site data"
      ],
      "metadata": {
        "id": "dr05ZM6PINxh"
      }
    },
    {
      "cell_type": "code",
      "execution_count": null,
      "metadata": {
        "id": "lcTNigxWknKh"
      },
      "outputs": [],
      "source": [
        "#table = ee.FeatureCollection(\"projects/ee-michaeljcecil-phd/assets/all_pod_locations\")\n",
        "site_data = pd.read_csv(\"/content/gdrive/MyDrive/gee_phd/site_locations/new_site_data_o.csv\")\n",
        "#site_data_day = pd.read_csv(\"/content/gdrive/MyDrive/gee_phd/site_locations/all_sites_by_day.csv\")\n",
        "site_data\n",
        "#site_data_day"
      ]
    },
    {
      "cell_type": "code",
      "execution_count": null,
      "metadata": {
        "colab": {
          "base_uri": "https://localhost:8080/"
        },
        "id": "0Es8M4Sgptat",
        "outputId": "d349826d-ebf6-4815-8871-60fe5b826fb6"
      },
      "outputs": [
        {
          "output_type": "execute_result",
          "data": {
            "text/plain": [
              "611"
            ]
          },
          "metadata": {},
          "execution_count": 37
        }
      ],
      "source": [
        "len(site_data)\n",
        "#len(site_data_day)"
      ]
    },
    {
      "cell_type": "code",
      "execution_count": null,
      "metadata": {
        "id": "mlPFhxSHBhVc"
      },
      "outputs": [],
      "source": [
        "def extract_pt_coll(coll, pts, start_date, end_date, scale, buffer, site_name, coll_name, out_folder, out_cols):\n",
        " # pt_buffer = ee.Feature(pt).buffer(buffer)\n",
        "  def process_batch(image):\n",
        "        image = image.unmask()\n",
        "        date = image.get('system:time_start')\n",
        "        index = image.get('system:index')\n",
        "        ft = image.reduceRegions(pts, ee.Reducer.mean(), scale)\n",
        "        ft = ft.map(lambda f: f.set('date', date))\n",
        "        ft = ft.map(lambda f: f.set(site_name + '_index', index))\n",
        "        return ft\n",
        "\n",
        "\n",
        "  s2 = (\n",
        "    ee.ImageCollection(\"COPERNICUS/S2_SR_HARMONIZED\")\n",
        "      .filterDate(start_date, end_date)\n",
        "     # .select(band_selection)\n",
        "      .filterBounds(ee.FeatureCollection(pts.geometry()))\n",
        "  )\n",
        "   # s2x = s2.filterBounds(ee.FeatureCollection(pts.geometry()))\n",
        "   # current_pnt = n.get(i).getInfo()\n",
        "\n",
        "\n",
        "\n",
        "  batch_vals = s2.map(process_batch).flatten()\n",
        " #   batch_vals = batch_vals.filter(ee.Filter.notNull([\"B2\"]))\n",
        "\n",
        "    # # batch_vals = (\n",
        "    # #     ee.FeatureCollection(batch_vals)\n",
        "    # #       .filter(ee.Filter.notNull([\"B2\"]))\n",
        "    # # )\n",
        "    # # var batch_vals =  s2_4extract.map(process_batch).flatten()\n",
        "\n",
        "  # exp_task = ee.batch.Export.table.toDrive(\n",
        "  #       collection=batch_vals,\n",
        "  #       # description='S2_' + region + '_' + str(current_pnt) +\"tt\",\n",
        "  #       description= coll_name + '_' + site_name,\n",
        "  #       folder= out_folder,\n",
        "  #       selectors=(out_cols)\n",
        "  #   )\n",
        "  # exp_task.start()\n",
        "  print(coll_name + '_' + site_name + ' started')\n",
        "  return(batch_vals)\n",
        "\n",
        "\n"
      ]
    },
    {
      "cell_type": "code",
      "execution_count": null,
      "metadata": {
        "colab": {
          "base_uri": "https://localhost:8080/"
        },
        "id": "iNXKYsgQehH6",
        "outputId": "8e7abc87-a592-40bd-a399-8e4086c99c65"
      },
      "outputs": [
        {
          "output_type": "stream",
          "name": "stdout",
          "text": [
            "611\n"
          ]
        }
      ],
      "source": [
        "fc = ee.FeatureCollection(\"projects/zari-331802/assets/new_site_data_o\")\n",
        "print(fc.size().getInfo())"
      ]
    },
    {
      "cell_type": "markdown",
      "source": [
        "Loop through sites and extract values."
      ],
      "metadata": {
        "id": "_OzcFwDhISGq"
      }
    },
    {
      "cell_type": "code",
      "execution_count": null,
      "metadata": {
        "id": "g4UKna7e_3pR"
      },
      "outputs": [],
      "source": [
        "import datetime\n",
        "#output_path = \"/content/gdrive/MyDrive/gee_phd/gee_coll_export\"\n",
        "coll_list = [[\"COPERNICUS/S2_SR_HARMONIZED\", \"s2_h\", 10],\n",
        "             [\"COPERNICUS/S1_GRD\", \"s1D_50m_\", 10],\n",
        "             [\"ECMWF/ERA5_LAND/DAILY_RAW\", \"ERA5\", 11000],\n",
        "             [\"UCSB-CHG/CHIRPS/DAILY\", \"CHIRPS\", 5000],\n",
        "             [\"NOAA/VIIRS/001/VNP21A1D\", \"VIIRS_dT\", 1000],\n",
        "             [\"NOAA/VIIRS/001/VNP21A1N\", \"VIIRS_nT\", 1000],\n",
        "             [\"NOAA/VIIRS/001/VNP09GA\", \"VIIRS_sr\", 500],\n",
        "             [\"MODIS/061/MOD09GA\", \"MOD09GA\", 500],\n",
        "             [\"MODIS/061/MYD09GA\", \"MYD09GA\", 500],\n",
        "             [\"NOAA/VIIRS/001/VNP22Q2\",'VIIRS_LSP' , 500],\n",
        "             ['MODIS/061/MCD12Q2','MODIS_LSP' , 500]]\n",
        "\n",
        "#modis = ee.ImageCollection(\"MODIS/061/MYD09GA\")\n",
        "#output_path = \"/content/gdrive/MyDrive/gee_phd/\"\n",
        "#coll_list = [\"COPERNICUS/S2_SR_HARMONIZED\", \"MODIS/061/MOD09GA\", \"MODIS/061/MYD09GA\", \"MODIS/006/MCD19A2_GRANULES\"]\n",
        "#coll_name_list = [\"s2_h\", \"mod096a\", \"myd096a\", \"mcd19a2\"]\n",
        "#scale_list = [10, 500, 500, 1000]\n",
        "#start_date = \"2020-11-01\"\n",
        "#end_date = \"2021-05-31\"\n",
        "\n",
        "#start_date = \"2020-11-01\"\n",
        "#end_date = \"2021-05-31\"\n",
        "CLOUD_FILTER = 80\n",
        "CLD_PRB_THRESH = 50\n",
        "NIR_DRK_THRESH = 0.15\n",
        "CLD_PRJ_DIST = 1\n",
        "BUFFER = 50\n",
        "BUFFER_FLAG = False\n",
        "\n",
        "include_image_props = False\n",
        "pts = ee.FeatureCollection(\"projects/ee-michaeljcecil-phd/assets/all_pod_locations\")\n",
        "\n",
        "for k in range(6, 7): ##  loop through collection list\n",
        "  coll_data = coll_list[k]\n",
        "  print(coll_data)\n",
        "  coll = coll_data[0]\n",
        "  coll_name = coll_data[1]\n",
        "#  scale = coll_data[2]\n",
        "  scale = 10\n",
        "\n",
        "\n",
        "  for j in range(len(site_data)):\n",
        "    print(j)\n",
        "    start_date = site_data.at[j, \"new_start\"]\n",
        "   # start_date = datetime.datetime.strptime(start_date, '%Y-%m-%d').strftime('%Y-%m-%dT00:00:00.000Z')\n",
        " # site_data.at[k, \"Location\"] = start_date\n",
        "    end_date = site_data.at[j, \"new_end\"]\n",
        " #   end_date = datetime.datetime.strptime(end_date, '%Y-%m-%d') #+ datetime.timedelta(days=1)\n",
        "  #  end_date = end_date.strftime('%Y-%m-%dT00:00:00.000Z')\n",
        "    print(site_data.at[j, \"Location\"])\n",
        "    if coll in [\"NOAA/VIIRS/001/VNP22Q2\", 'MODIS/061/MCD12Q2']:\n",
        "      start_date = start_date[0:4] + \"-01-01\"\n",
        "    print(start_date, \" \", end_date)\n",
        "\n",
        "    site_long = site_data.at[j, \"new_start\"]\n",
        "    site_lat = site_data.at[j, \"new_start\"]\n",
        "\n",
        "  #  stats = coll_export.reduceRegion()\n",
        "\n",
        "    current_location = site_data.at[j, \"Location\"]\n",
        "\n",
        "    current_pt = ee.Feature(fc.filter(ee.Filter.eq(\"Location\", current_location)).first()) #.filter(ee.Filter.gt(\"date\", \"2018-12-14\"))\n",
        "\n",
        "    if BUFFER_FLAG:\n",
        "      current_pt = current_pt.geometry().buffer(BUFFER)\n",
        "    else:\n",
        "      current_pt = current_pt.geometry()\n",
        "   # print(current_pt)\n",
        "  #  print(current_pt.getInfo())\n",
        "\n",
        "    ## s1 filters\n",
        "    if coll_data == \"COPERNICUS/S1_GRD\":\n",
        "      coll_export = ee.ImageCollection(coll).filter(ee.Filter.eq('orbitProperties_pass', 'ASCENDING')).filterDate(start_date, end_date).filterBounds(ee.FeatureCollection(current_pt).geometry()).toBands()\n",
        "    else:\n",
        "      coll_export = ee.ImageCollection(coll).filterDate(start_date, end_date).filterBounds(ee.FeatureCollection(current_pt).geometry()).toBands()\n",
        "    if coll_data == \"NOAA/VIIRS/001/VNP09GA\":\n",
        "      coll_export = coll_export.select([''])\n",
        "\n",
        "\n",
        "    data = coll_export.reduceRegion(ee.Reducer.median(), current_pt, scale)\n",
        "    exp_task = ee.batch.Export.table.toDrive(\n",
        "          collection= ee.FeatureCollection([ee.Feature(None, data)]),\n",
        "          # description='S2_' + region + '_' + str(current_pnt) +\"tt\",\n",
        "          description= coll_name + \"_\" + current_location + \"_\" + str(start_date) + \"_\" + str(end_date) + '_export',\n",
        "          folder= 'batch_export_sept_23'\n",
        "          #selectors=(out_cols)\n",
        "    )\n",
        "    exp_task.start()\n",
        "\n",
        "\n"
      ]
    }
  ],
  "metadata": {
    "colab": {
      "provenance": []
    },
    "kernelspec": {
      "display_name": "Python 3",
      "name": "python3"
    },
    "language_info": {
      "name": "python"
    }
  },
  "nbformat": 4,
  "nbformat_minor": 0
}