{
  "cells": [
    {
      "cell_type": "markdown",
      "source": [
        "This script is used to consolidate Mark values for all sites, and join Mark and VIIRS surface reflectance data.\n",
        "\n",
        "It requires a site location file, \"new_site_data_o.csv\", an observations file containing dates for all site-seasons, \"all_sites_by_day.csv\", raw Mark data contained in a folder \"hourly_data\", and VIIRS surface reflectance values exported from GEE in a folder \"batch_export\".\n",
        "\n",
        "Final joined values are exported in the file \"all_joined.csv\"."
      ],
      "metadata": {
        "id": "Q8zSrVhtc5DP"
      }
    },
    {
      "cell_type": "code",
      "execution_count": null,
      "metadata": {
        "id": "Mf7K5z9X6W1z"
      },
      "outputs": [],
      "source": [
        "\n",
        "import os\n",
        "import pandas as pd\n",
        "pd.set_option('display.max_columns', None)\n",
        "pd.set_option('display.max_rows', None)\n"
      ]
    },
    {
      "cell_type": "code",
      "execution_count": null,
      "metadata": {
        "colab": {
          "base_uri": "https://localhost:8080/"
        },
        "id": "aLPqeh5rYeV5",
        "outputId": "2a203128-506e-40d9-c780-b53663512fd0"
      },
      "outputs": [
        {
          "output_type": "stream",
          "name": "stdout",
          "text": [
            "Mounted at /content/gdrive\n"
          ]
        }
      ],
      "source": [
        "from google.colab import drive\n",
        "drive.mount(\"/content/gdrive\")"
      ]
    },
    {
      "cell_type": "markdown",
      "metadata": {
        "id": "xLmHfAWd__i9"
      },
      "source": [
        "Create daily date df"
      ]
    },
    {
      "cell_type": "code",
      "execution_count": null,
      "metadata": {
        "id": "MrVm4fEKAA3g"
      },
      "outputs": [],
      "source": [
        "site_data = pd.read_csv(\"/content/gdrive/MyDrive/gee_phd/site_locations/all_sites_by_day.csv\")\n",
        "site_data_60 = pd.read_csv(\"/content/gdrive/MyDrive/gee_phd/site_locations/new_site_data_o.csv\")\n",
        "site_data_60\n",
        "unique_sites = site_data_60['Location'].unique()\n",
        "print(unique_sites)"
      ]
    },
    {
      "cell_type": "code",
      "execution_count": null,
      "metadata": {
        "id": "cijLdC_vCTYh"
      },
      "outputs": [],
      "source": [
        "out_df = list()\n",
        "for current_site in unique_sites:\n",
        "  filtered_df = site_data_60[site_data_60.Location == current_site]\n",
        " # print(filtered_df)\n",
        "  earliest_start = min(pd.to_datetime(filtered_df['new_start']))\n",
        "  latest_end = max(pd.to_datetime(filtered_df['new_end']))\n",
        "  #print(earliest_start)\n",
        "  new_df = pd.DataFrame({ 'date':pd.date_range(earliest_start, latest_end)})\n",
        "  new_df['Location'] = current_site\n",
        "  #print(new_df)\n",
        "  out_df.append(new_df)\n",
        "\n",
        "out_df = pd.concat(out_df)\n"
      ]
    },
    {
      "cell_type": "markdown",
      "metadata": {
        "id": "kmej3zqsuN_h"
      },
      "source": [
        "join pods"
      ]
    },
    {
      "cell_type": "code",
      "source": [
        "#pod_d[0].head(20)\n",
        "joined_s2['s2_round_5min'].median()"
      ],
      "metadata": {
        "id": "A4EsIbYxSAzc",
        "colab": {
          "base_uri": "https://localhost:8080/",
          "height": 341
        },
        "outputId": "ea2b43e3-624f-41f4-d338-9790e4bc122b"
      },
      "execution_count": null,
      "outputs": [
        {
          "output_type": "error",
          "ename": "TypeError",
          "evalue": "ignored",
          "traceback": [
            "\u001b[0;31m---------------------------------------------------------------------------\u001b[0m",
            "\u001b[0;31mTypeError\u001b[0m                                 Traceback (most recent call last)",
            "\u001b[0;32m<ipython-input-20-3850f971f095>\u001b[0m in \u001b[0;36m<cell line: 2>\u001b[0;34m()\u001b[0m\n\u001b[1;32m      1\u001b[0m \u001b[0;31m#pod_d[0].head(20)\u001b[0m\u001b[0;34m\u001b[0m\u001b[0;34m\u001b[0m\u001b[0m\n\u001b[0;32m----> 2\u001b[0;31m \u001b[0mjoined_s2\u001b[0m\u001b[0;34m[\u001b[0m\u001b[0;34m's2_round_5min'\u001b[0m\u001b[0;34m]\u001b[0m\u001b[0;34m.\u001b[0m\u001b[0mmedian\u001b[0m\u001b[0;34m(\u001b[0m\u001b[0;34m)\u001b[0m\u001b[0;34m\u001b[0m\u001b[0;34m\u001b[0m\u001b[0m\n\u001b[0m",
            "\u001b[0;32m/usr/local/lib/python3.9/dist-packages/pandas/core/generic.py\u001b[0m in \u001b[0;36mmedian\u001b[0;34m(self, axis, skipna, level, numeric_only, **kwargs)\u001b[0m\n\u001b[1;32m  11192\u001b[0m             \u001b[0;34m**\u001b[0m\u001b[0mkwargs\u001b[0m\u001b[0;34m,\u001b[0m\u001b[0;34m\u001b[0m\u001b[0;34m\u001b[0m\u001b[0m\n\u001b[1;32m  11193\u001b[0m         ):\n\u001b[0;32m> 11194\u001b[0;31m             \u001b[0;32mreturn\u001b[0m \u001b[0mNDFrame\u001b[0m\u001b[0;34m.\u001b[0m\u001b[0mmedian\u001b[0m\u001b[0;34m(\u001b[0m\u001b[0mself\u001b[0m\u001b[0;34m,\u001b[0m \u001b[0maxis\u001b[0m\u001b[0;34m,\u001b[0m \u001b[0mskipna\u001b[0m\u001b[0;34m,\u001b[0m \u001b[0mlevel\u001b[0m\u001b[0;34m,\u001b[0m \u001b[0mnumeric_only\u001b[0m\u001b[0;34m,\u001b[0m \u001b[0;34m**\u001b[0m\u001b[0mkwargs\u001b[0m\u001b[0;34m)\u001b[0m\u001b[0;34m\u001b[0m\u001b[0;34m\u001b[0m\u001b[0m\n\u001b[0m\u001b[1;32m  11195\u001b[0m \u001b[0;34m\u001b[0m\u001b[0m\n\u001b[1;32m  11196\u001b[0m         \u001b[0msetattr\u001b[0m\u001b[0;34m(\u001b[0m\u001b[0mcls\u001b[0m\u001b[0;34m,\u001b[0m \u001b[0;34m\"median\"\u001b[0m\u001b[0;34m,\u001b[0m \u001b[0mmedian\u001b[0m\u001b[0;34m)\u001b[0m\u001b[0;34m\u001b[0m\u001b[0;34m\u001b[0m\u001b[0m\n",
            "\u001b[0;32m/usr/local/lib/python3.9/dist-packages/pandas/core/generic.py\u001b[0m in \u001b[0;36mmedian\u001b[0;34m(self, axis, skipna, level, numeric_only, **kwargs)\u001b[0m\n\u001b[1;32m  10704\u001b[0m         \u001b[0;34m**\u001b[0m\u001b[0mkwargs\u001b[0m\u001b[0;34m,\u001b[0m\u001b[0;34m\u001b[0m\u001b[0;34m\u001b[0m\u001b[0m\n\u001b[1;32m  10705\u001b[0m     ) -> Series | float:\n\u001b[0;32m> 10706\u001b[0;31m         return self._stat_function(\n\u001b[0m\u001b[1;32m  10707\u001b[0m             \u001b[0;34m\"median\"\u001b[0m\u001b[0;34m,\u001b[0m \u001b[0mnanops\u001b[0m\u001b[0;34m.\u001b[0m\u001b[0mnanmedian\u001b[0m\u001b[0;34m,\u001b[0m \u001b[0maxis\u001b[0m\u001b[0;34m,\u001b[0m \u001b[0mskipna\u001b[0m\u001b[0;34m,\u001b[0m \u001b[0mlevel\u001b[0m\u001b[0;34m,\u001b[0m \u001b[0mnumeric_only\u001b[0m\u001b[0;34m,\u001b[0m \u001b[0;34m**\u001b[0m\u001b[0mkwargs\u001b[0m\u001b[0;34m\u001b[0m\u001b[0;34m\u001b[0m\u001b[0m\n\u001b[1;32m  10708\u001b[0m         )\n",
            "\u001b[0;32m/usr/local/lib/python3.9/dist-packages/pandas/core/generic.py\u001b[0m in \u001b[0;36m_stat_function\u001b[0;34m(self, name, func, axis, skipna, level, numeric_only, **kwargs)\u001b[0m\n\u001b[1;32m  10644\u001b[0m                 \u001b[0mname\u001b[0m\u001b[0;34m,\u001b[0m \u001b[0maxis\u001b[0m\u001b[0;34m=\u001b[0m\u001b[0maxis\u001b[0m\u001b[0;34m,\u001b[0m \u001b[0mlevel\u001b[0m\u001b[0;34m=\u001b[0m\u001b[0mlevel\u001b[0m\u001b[0;34m,\u001b[0m \u001b[0mskipna\u001b[0m\u001b[0;34m=\u001b[0m\u001b[0mskipna\u001b[0m\u001b[0;34m,\u001b[0m \u001b[0mnumeric_only\u001b[0m\u001b[0;34m=\u001b[0m\u001b[0mnumeric_only\u001b[0m\u001b[0;34m\u001b[0m\u001b[0;34m\u001b[0m\u001b[0m\n\u001b[1;32m  10645\u001b[0m             )\n\u001b[0;32m> 10646\u001b[0;31m         return self._reduce(\n\u001b[0m\u001b[1;32m  10647\u001b[0m             \u001b[0mfunc\u001b[0m\u001b[0;34m,\u001b[0m \u001b[0mname\u001b[0m\u001b[0;34m=\u001b[0m\u001b[0mname\u001b[0m\u001b[0;34m,\u001b[0m \u001b[0maxis\u001b[0m\u001b[0;34m=\u001b[0m\u001b[0maxis\u001b[0m\u001b[0;34m,\u001b[0m \u001b[0mskipna\u001b[0m\u001b[0;34m=\u001b[0m\u001b[0mskipna\u001b[0m\u001b[0;34m,\u001b[0m \u001b[0mnumeric_only\u001b[0m\u001b[0;34m=\u001b[0m\u001b[0mnumeric_only\u001b[0m\u001b[0;34m\u001b[0m\u001b[0;34m\u001b[0m\u001b[0m\n\u001b[1;32m  10648\u001b[0m         )\n",
            "\u001b[0;32m/usr/local/lib/python3.9/dist-packages/pandas/core/series.py\u001b[0m in \u001b[0;36m_reduce\u001b[0;34m(self, op, name, axis, skipna, numeric_only, filter_type, **kwds)\u001b[0m\n\u001b[1;32m   4469\u001b[0m                 )\n\u001b[1;32m   4470\u001b[0m             \u001b[0;32mwith\u001b[0m \u001b[0mnp\u001b[0m\u001b[0;34m.\u001b[0m\u001b[0merrstate\u001b[0m\u001b[0;34m(\u001b[0m\u001b[0mall\u001b[0m\u001b[0;34m=\u001b[0m\u001b[0;34m\"ignore\"\u001b[0m\u001b[0;34m)\u001b[0m\u001b[0;34m:\u001b[0m\u001b[0;34m\u001b[0m\u001b[0;34m\u001b[0m\u001b[0m\n\u001b[0;32m-> 4471\u001b[0;31m                 \u001b[0;32mreturn\u001b[0m \u001b[0mop\u001b[0m\u001b[0;34m(\u001b[0m\u001b[0mdelegate\u001b[0m\u001b[0;34m,\u001b[0m \u001b[0mskipna\u001b[0m\u001b[0;34m=\u001b[0m\u001b[0mskipna\u001b[0m\u001b[0;34m,\u001b[0m \u001b[0;34m**\u001b[0m\u001b[0mkwds\u001b[0m\u001b[0;34m)\u001b[0m\u001b[0;34m\u001b[0m\u001b[0;34m\u001b[0m\u001b[0m\n\u001b[0m\u001b[1;32m   4472\u001b[0m \u001b[0;34m\u001b[0m\u001b[0m\n\u001b[1;32m   4473\u001b[0m     def _reindex_indexer(\n",
            "\u001b[0;32m/usr/local/lib/python3.9/dist-packages/pandas/core/nanops.py\u001b[0m in \u001b[0;36mf\u001b[0;34m(values, axis, skipna, **kwds)\u001b[0m\n\u001b[1;32m    153\u001b[0m                     \u001b[0mresult\u001b[0m \u001b[0;34m=\u001b[0m \u001b[0malt\u001b[0m\u001b[0;34m(\u001b[0m\u001b[0mvalues\u001b[0m\u001b[0;34m,\u001b[0m \u001b[0maxis\u001b[0m\u001b[0;34m=\u001b[0m\u001b[0maxis\u001b[0m\u001b[0;34m,\u001b[0m \u001b[0mskipna\u001b[0m\u001b[0;34m=\u001b[0m\u001b[0mskipna\u001b[0m\u001b[0;34m,\u001b[0m \u001b[0;34m**\u001b[0m\u001b[0mkwds\u001b[0m\u001b[0;34m)\u001b[0m\u001b[0;34m\u001b[0m\u001b[0;34m\u001b[0m\u001b[0m\n\u001b[1;32m    154\u001b[0m             \u001b[0;32melse\u001b[0m\u001b[0;34m:\u001b[0m\u001b[0;34m\u001b[0m\u001b[0;34m\u001b[0m\u001b[0m\n\u001b[0;32m--> 155\u001b[0;31m                 \u001b[0mresult\u001b[0m \u001b[0;34m=\u001b[0m \u001b[0malt\u001b[0m\u001b[0;34m(\u001b[0m\u001b[0mvalues\u001b[0m\u001b[0;34m,\u001b[0m \u001b[0maxis\u001b[0m\u001b[0;34m=\u001b[0m\u001b[0maxis\u001b[0m\u001b[0;34m,\u001b[0m \u001b[0mskipna\u001b[0m\u001b[0;34m=\u001b[0m\u001b[0mskipna\u001b[0m\u001b[0;34m,\u001b[0m \u001b[0;34m**\u001b[0m\u001b[0mkwds\u001b[0m\u001b[0;34m)\u001b[0m\u001b[0;34m\u001b[0m\u001b[0;34m\u001b[0m\u001b[0m\n\u001b[0m\u001b[1;32m    156\u001b[0m \u001b[0;34m\u001b[0m\u001b[0m\n\u001b[1;32m    157\u001b[0m             \u001b[0;32mreturn\u001b[0m \u001b[0mresult\u001b[0m\u001b[0;34m\u001b[0m\u001b[0;34m\u001b[0m\u001b[0m\n",
            "\u001b[0;32m/usr/local/lib/python3.9/dist-packages/pandas/core/nanops.py\u001b[0m in \u001b[0;36mnanmedian\u001b[0;34m(values, axis, skipna, mask)\u001b[0m\n\u001b[1;32m    750\u001b[0m     \u001b[0;32mif\u001b[0m \u001b[0;32mnot\u001b[0m \u001b[0mis_float_dtype\u001b[0m\u001b[0;34m(\u001b[0m\u001b[0mvalues\u001b[0m\u001b[0;34m.\u001b[0m\u001b[0mdtype\u001b[0m\u001b[0;34m)\u001b[0m\u001b[0;34m:\u001b[0m\u001b[0;34m\u001b[0m\u001b[0;34m\u001b[0m\u001b[0m\n\u001b[1;32m    751\u001b[0m         \u001b[0;32mtry\u001b[0m\u001b[0;34m:\u001b[0m\u001b[0;34m\u001b[0m\u001b[0;34m\u001b[0m\u001b[0m\n\u001b[0;32m--> 752\u001b[0;31m             \u001b[0mvalues\u001b[0m \u001b[0;34m=\u001b[0m \u001b[0mvalues\u001b[0m\u001b[0;34m.\u001b[0m\u001b[0mastype\u001b[0m\u001b[0;34m(\u001b[0m\u001b[0;34m\"f8\"\u001b[0m\u001b[0;34m)\u001b[0m\u001b[0;34m\u001b[0m\u001b[0;34m\u001b[0m\u001b[0m\n\u001b[0m\u001b[1;32m    753\u001b[0m         \u001b[0;32mexcept\u001b[0m \u001b[0mValueError\u001b[0m \u001b[0;32mas\u001b[0m \u001b[0merr\u001b[0m\u001b[0;34m:\u001b[0m\u001b[0;34m\u001b[0m\u001b[0;34m\u001b[0m\u001b[0m\n\u001b[1;32m    754\u001b[0m             \u001b[0;31m# e.g. \"could not convert string to float: 'a'\"\u001b[0m\u001b[0;34m\u001b[0m\u001b[0;34m\u001b[0m\u001b[0m\n",
            "\u001b[0;31mTypeError\u001b[0m: float() argument must be a string or a number, not 'datetime.time'"
          ]
        }
      ]
    },
    {
      "cell_type": "code",
      "execution_count": null,
      "metadata": {
        "id": "DFZZXlu5uQyk"
      },
      "outputs": [],
      "source": [
        "import glob\n",
        "#prefix = 'ERA5_'\n",
        "pod_d = list()\n",
        "for current_site in unique_sites:\n",
        "  print(current_site)\n",
        "  s2_data = joined_s2[(joined_s2['Location'] == current_site) & (joined_s2['s2_B8'].notnull())]\n",
        "\n",
        "  if \"choma\" in current_site:\n",
        "    s2_hour_z = 8\n",
        "  else:\n",
        "    s2_hour_z = int(s2_data['s2_hour_Z'].median())\n",
        " # print(s2_data.head(20))\n",
        "  print(s2_hour_z)\n",
        "  if \"planet\" in current_site:\n",
        "    current_pod_data = pd.read_csv(\"/content/gdrive/MyDrive/gee_phd/cal_data/\" + current_site + \"_CAL.csv\")\n",
        " #   current_pod_data['']\n",
        "  #  s2_hour_5min = joined_s2['s2_round_5min'].median().minute\n",
        "   # print(s2_hour_5min)\n",
        "  else:\n",
        "    current_pod_data = pd.read_csv(\"/content/gdrive/MyDrive/gee_phd/hourly_data/\" + current_site + \"_HOURLY.csv\")\n",
        "\n",
        "\n",
        " #print(current_pod_data.head(10))\n",
        "  current_pod_data['datetime'] = pd.to_datetime(current_pod_data['datetime'])\n",
        "  current_pod_data['minutes'] = current_pod_data['datetime'].dt.minute\n",
        "  current_pod_data['hours'] = current_pod_data['datetime'].dt.hour\n",
        "  current_pod_data['date'] = pd.to_datetime(current_pod_data['date'])\n",
        "  current_pod_data['datetime_time'] = current_pod_data['datetime'].round('5min').dt.time\n",
        "  current_pod_data['Location'] = current_site\n",
        "\n",
        "### filtering\n",
        "  current_pod_data = current_pod_data[current_pod_data['minutes'] == 0]\n",
        "  current_pod_data = current_pod_data[current_pod_data['hour_of_day_Z'] == s2_hour_z]\n",
        "\n",
        "\n",
        "  pod_d.append(current_pod_data)\n",
        "\n",
        "\n",
        "pod_d = pd.concat(pod_d, join = \"inner\")\n",
        "pod_d = pod_d.reset_index()\n",
        "pod_d = pod_d.drop(['index', 'Unnamed: 0'], axis = 1)\n",
        "\n"
      ]
    },
    {
      "cell_type": "code",
      "execution_count": null,
      "metadata": {
        "id": "671tRLrmuQ5H",
        "colab": {
          "base_uri": "https://localhost:8080/"
        },
        "outputId": "dd629bb2-6939-4b53-eb9b-bc0f55805f35"
      },
      "outputs": [
        {
          "output_type": "stream",
          "name": "stdout",
          "text": [
            "(102044, 44)\n"
          ]
        }
      ],
      "source": [
        "joined_pod = pd.merge(out_df, pod_d, on=['date', 'Location'], how = 'left')\n",
        "print(joined_pod.shape)\n",
        "joined_pod.head(100)\n",
        "joined_pod.to_csv(\"/content/gdrive/MyDrive/gee_phd/site_locations/joined_pods.csv\", encoding = 'utf-8-sig')\n"
      ]
    },
    {
      "cell_type": "code",
      "execution_count": null,
      "metadata": {
        "id": "BGOtw6v5uQ_O",
        "colab": {
          "base_uri": "https://localhost:8080/"
        },
        "outputId": "f82779fb-f40b-45f2-a124-c0e06a16987b"
      },
      "outputs": [
        {
          "output_type": "stream",
          "name": "stdout",
          "text": [
            "(102044, 44)\n",
            "(100871, 44)\n",
            "(111014, 30)\n",
            "(100871, 30)\n",
            "(100871, 54)\n",
            "(100871, 54)\n"
          ]
        }
      ],
      "source": [
        "joined_pod_dedupe = joined_pod.drop_duplicates(subset=['Location','date'],  keep='first')\n",
        "print(joined_pod.shape)\n",
        "print(joined_pod_dedupe.shape)\n",
        "joined_s2_dedupe = joined_s2.drop_duplicates(subset=['Location','date'],  keep='first')\n",
        "print(joined_s2.shape)\n",
        "print(joined_s2_dedupe.shape)\n",
        "joined_era_dedupe = joined_era.drop_duplicates(subset=['Location','date'],  keep='first')\n",
        "print(joined_era.shape)\n",
        "print(joined_era_dedupe.shape)"
      ]
    },
    {
      "cell_type": "code",
      "source": [
        "joined_pod_dedupe.to_csv(\"/content/gdrive/MyDrive/gee_phd/site_locations/joined_pods_dedupe.csv\", encoding = 'utf-8-sig')\n",
        "joined_s2_dedupe.to_csv(\"/content/gdrive/MyDrive/gee_phd/site_locations/joined_s2_dedupe.csv\", encoding = 'utf-8-sig')\n",
        "joined_era_dedupe.to_csv(\"/content/gdrive/MyDrive/gee_phd/site_locations/joined_era_dedupe.csv\", encoding = 'utf-8-sig')\n"
      ],
      "metadata": {
        "id": "UGC5N-cckWHs"
      },
      "execution_count": null,
      "outputs": []
    },
    {
      "cell_type": "markdown",
      "source": [
        "Add VIIRS sr"
      ],
      "metadata": {
        "id": "uG4FMNEFqIUy"
      }
    },
    {
      "cell_type": "code",
      "source": [
        "gee_files = glob.glob(\"/content/gdrive/MyDrive/batch_export/\" + 'VIIRS_sr_' + \"*\"  + \"*\")\n",
        "gee_files"
      ],
      "metadata": {
        "id": "2704zlb2sijF"
      },
      "execution_count": null,
      "outputs": []
    },
    {
      "cell_type": "code",
      "execution_count": null,
      "metadata": {
        "id": "9oOizgjEsijG"
      },
      "outputs": [],
      "source": [
        "import glob\n",
        "prefix = 'VIIRS_sr_'\n",
        "sites_d = list()\n",
        "for current_site in unique_sites:\n",
        "  print(current_site)\n",
        "  gee_files = glob.glob(\"/content/gdrive/MyDrive/batch_export/\" + prefix + \"*\" + current_site + \"*\")\n",
        " # print(gee_files)\n",
        "  image_data = list()\n",
        "  for gee in gee_files:\n",
        "  #  print(gee)\n",
        "    gee_data = pd.read_csv(gee)\n",
        "   # print(gee_data.head(5))\n",
        "    vals = gee_data.iloc[0]\n",
        "    vals = vals[vals.index != 'system:index']\n",
        "    vals = vals[vals.index != '.geo']\n",
        "    dataset = pd.DataFrame({'image_band': vals.index, 'values': vals.values})\n",
        "  #  print(dataset.head(5))\n",
        "    dataset['Location'] = current_site\n",
        "    dataset['image_id'] = (dataset['image_band'].apply(lambda x: (\"_\".join(x.split(\"_\")[0:3]) )  ))\n",
        "    dataset['band'] = prefix + dataset['image_band'].apply(lambda x: (\"_\".join(x.split(\"_\")[3:]) ) )\n",
        "    dataset['date'] =  pd.to_datetime(dataset['image_band'].apply(lambda x: \"\".join(x.split(\"_\")[0:3])), format = \"%Y%m%d\")\n",
        "    dataset['datetime'] =  pd.to_datetime(dataset['image_band'].apply(lambda x: \"_\".join(x.split(\"_\")[0:3])), format = \"%Y_%m_%d\")\n",
        "    d2 = dataset.pivot(index=['image_id', 'date', 'datetime', 'Location'], columns='band', values='values')\n",
        "    d2 = d2.reset_index()\n",
        "    d2 = d2.rename(columns={\"datetime\": prefix + \"datetime\", \"image_id\": prefix + \"image_id\"})\n",
        "    sites_d.append(d2)\n",
        "# #   #joined = pd.merge(out_df, d2, on=['date', 'Location'], how = 'left')\n",
        "\n",
        "sites_viirs = pd.concat(sites_d)"
      ]
    },
    {
      "cell_type": "code",
      "source": [
        "sites_viirs.head(400)"
      ],
      "metadata": {
        "id": "jfDUZwi5sijH"
      },
      "execution_count": null,
      "outputs": []
    },
    {
      "cell_type": "code",
      "source": [
        "sites_viirs = sites_viirs.reset_index()\n",
        "for name in sites_viirs.columns:\n",
        "  print(name)\n",
        "  if not \"date\" in name:\n",
        "    if name == \"Location\":\n",
        "      sites_viirs[name] = sites_viirs[name].apply(str)\n",
        "      continue\n",
        "    if  \"image_id\" in name:\n",
        "      sites_viirs[name] = sites_viirs[name].apply(str)\n",
        "      continue\n",
        "    sites_viirs[name] = pd.to_numeric(sites_viirs[name])\n",
        "sites_viirs = sites_viirs.drop(columns = ['index'])\n",
        "sites_viirs = sites_viirs.rename_axis(None, axis=1)\n",
        "\n",
        "# sites_d.columns\n",
        "print(sites_viirs.shape)\n",
        "# # sites_d.index.name = None\n",
        "sites_viirs.head(40)\n",
        "# # sites_d['band']"
      ],
      "metadata": {
        "id": "oupCUgJAsijH"
      },
      "execution_count": null,
      "outputs": []
    },
    {
      "cell_type": "code",
      "execution_count": null,
      "metadata": {
        "colab": {
          "base_uri": "https://localhost:8080/"
        },
        "outputId": "8a7fffc0-50f6-49c2-f7e2-1ba5fecc29ee",
        "id": "HdBatRa7sijI"
      },
      "outputs": [
        {
          "output_type": "execute_result",
          "data": {
            "text/plain": [
              "Index(['date', 'Location', 'VIIRS_sr_image_id', 'VIIRS_sr_datetime',\n",
              "       'VIIRS_sr_I1', 'VIIRS_sr_I2', 'VIIRS_sr_I3', 'VIIRS_sr_M1',\n",
              "       'VIIRS_sr_M10', 'VIIRS_sr_M11', 'VIIRS_sr_M2', 'VIIRS_sr_M3',\n",
              "       'VIIRS_sr_M4', 'VIIRS_sr_M5', 'VIIRS_sr_M7', 'VIIRS_sr_M8',\n",
              "       'VIIRS_sr_QF1', 'VIIRS_sr_QF2', 'VIIRS_sr_QF3', 'VIIRS_sr_QF4',\n",
              "       'VIIRS_sr_QF5', 'VIIRS_sr_QF6', 'VIIRS_sr_QF7',\n",
              "       'VIIRS_sr_SensorAzimuth', 'VIIRS_sr_SensorZenith',\n",
              "       'VIIRS_sr_SolarAzimuth', 'VIIRS_sr_SolarZenith', 'VIIRS_sr_iobs_res',\n",
              "       'VIIRS_sr_num_observations_1km', 'VIIRS_sr_num_observations_500m',\n",
              "       'VIIRS_sr_obscov_1km', 'VIIRS_sr_obscov_500m', 'VIIRS_sr_orbit_pnt'],\n",
              "      dtype='object')"
            ]
          },
          "metadata": {},
          "execution_count": 37
        }
      ],
      "source": [
        "joined_viirs = pd.merge(out_df, sites_viirs, on=['date', 'Location'], how = 'left')\n",
        "joined_viirs.head(40)\n",
        "joined_viirs.shape\n",
        "joined_viirs.columns"
      ]
    },
    {
      "cell_type": "code",
      "source": [
        "joined_viirs.to_csv(\"/content/gdrive/MyDrive/gee_phd/site_locations/joined_viirs.csv\", encoding = 'utf-8-sig')"
      ],
      "metadata": {
        "id": "dCltpH30sijI"
      },
      "execution_count": null,
      "outputs": []
    },
    {
      "cell_type": "code",
      "source": [
        "joined_viirs_dedupe = joined_viirs.drop_duplicates(subset=['Location','date'],  keep='first')\n",
        "print(joined_viirs.shape)\n",
        "print(joined_viirs_dedupe.shape)"
      ],
      "metadata": {
        "colab": {
          "base_uri": "https://localhost:8080/"
        },
        "outputId": "ee21fa93-598f-44e4-830b-9d02489ed679",
        "id": "el0m1PeYsijJ"
      },
      "execution_count": null,
      "outputs": [
        {
          "output_type": "stream",
          "name": "stdout",
          "text": [
            "(100871, 33)\n",
            "(100871, 33)\n"
          ]
        }
      ]
    },
    {
      "cell_type": "code",
      "source": [
        "joined_viirs_dedupe.to_csv(\"/content/gdrive/MyDrive/gee_phd/site_locations/joined_viirs_dedupe.csv\", encoding = 'utf-8-sig')"
      ],
      "metadata": {
        "id": "b2ScDKXfsijJ"
      },
      "execution_count": null,
      "outputs": []
    },
    {
      "cell_type": "markdown",
      "source": [
        "RELOAD DATA AND ADD BANDS (BEFORE JOINING)"
      ],
      "metadata": {
        "id": "GTbKDHBsw-s6"
      }
    },
    {
      "cell_type": "code",
      "source": [
        "def add_vi_dates(df, prefix, nir, red, green, datetime, date, datetimeConvert):\n",
        "  df[prefix + \"ndvi\"] = (df[nir] - df[red])/(df[nir] + df[red])\n",
        "  df[prefix + \"savi\"] = 1.5 *(df[nir] - df[red])/(df[nir] + df[red]+ 0.5)\n",
        "  df[prefix + \"evi2\"] = 2.5 * (df[nir] - df[red])/(df[nir] + (2.4 *df[red]) + 1.0)\n",
        "  df[prefix + \"gcvi\"] = (df[nir]/df[green]) - 1.0\n",
        "  if datetimeConvert:\n",
        "    df['datetime'] = pd.to_datetime(df[datetime].map(str), format = \"%Y-%m-%d %H:%M:%S\")\n",
        "  df['date'] = pd.to_datetime(df[date], format = \"%Y-%m-%d\")\n",
        "  return(df)\n",
        "\n",
        "def add_s1_vi_dates(df, prefix, vv, vh, datetime, date, datetimeConvert):\n",
        "  df[prefix + \"vv_vh\"] = (df[vv] - df[vh])\n",
        "  df[prefix + \"vh_vv\"] = (df[vh] - df[vv])\n",
        " # df[prefix + \"rvi\"] = 2.5 * (df[nir] - df[red])/(df[nir] + (2.4 *df[red]) + 1.0)\n",
        "  if datetimeConvert:\n",
        "    df['datetime'] = pd.to_datetime(df[datetime].map(str), format = \"%Y-%m-%d %H:%M:%S\")\n",
        "  df['date'] = pd.to_datetime(df[date], format = \"%Y-%m-%d\")\n",
        "  return(df)\n",
        "\n",
        "\n",
        "\n",
        "def add_lag_variables(df, cols, lags, fun = 'mean'):\n",
        "  for col in cols:\n",
        "    for lag in lags:\n",
        "      if fun == 'mean':\n",
        "        df[col + \"_lag_\" + str(lag)] = df.groupby('Location')[col].transform(lambda x: x.rolling(lag, 1).mean())\n",
        "      if fun == 'sum':\n",
        "        df[col + \"_lag_\" + str(lag)] = df.groupby('Location')[col].transform(lambda x: x.rolling(lag, 1).sum())\n",
        "      if fun == 'median':\n",
        "        df[col + \"_lag_\" + str(lag)] = df.groupby('Location')[col].transform(lambda x: x.rolling(lag, 1).median())\n",
        "  return(df)\n",
        "\n",
        "\n"
      ],
      "metadata": {
        "id": "dYBP_O6Xyrp_"
      },
      "execution_count": null,
      "outputs": []
    },
    {
      "cell_type": "code",
      "source": [
        "pod_dedupe = pd.read_csv(\"/content/gdrive/MyDrive/gee_phd/site_locations/joined_pods_dedupe.csv\")"
      ],
      "metadata": {
        "id": "jOq2eIZBxDCU"
      },
      "execution_count": null,
      "outputs": []
    },
    {
      "cell_type": "code",
      "source": [
        "pod_dedupe.head(100)"
      ],
      "metadata": {
        "id": "BoIHFSun1MSD"
      },
      "execution_count": null,
      "outputs": []
    },
    {
      "cell_type": "code",
      "source": [
        "import numpy as np\n",
        "pod_dedupe = add_vi_dates(pod_dedupe, \"\", \"b6_sr\", \"b4_sr\",\"b2_sr\", \"datetime\", \"date\", False)\n",
        "pod_dedupe['pod_quality'] = (pod_dedupe['ndvi'] > 0)\n",
        "pod_dedupe.loc[pod_dedupe['pod_quality'] == False, 'gcvi'] = np.NaN\n",
        "pod_dedupe.loc[pod_dedupe['pod_quality'] == False, 'savi'] = np.NaN\n",
        "pod_dedupe.loc[pod_dedupe['pod_quality'] == False, 'evi2'] = np.NaN\n",
        "pod_dedupe.loc[pod_dedupe['pod_quality'] == False, 'ndvi'] = np.NaN\n",
        "\n",
        "pod_dedupe[pod_dedupe['ndvi'] < 0].head(1000)\n",
        "#pod_dedupe.dtypes"
      ],
      "metadata": {
        "id": "arRgPeHg1FVd",
        "colab": {
          "base_uri": "https://localhost:8080/",
          "height": 131
        },
        "outputId": "4b067855-5886-4b9b-d592-24bf25e23166"
      },
      "execution_count": null,
      "outputs": [
        {
          "output_type": "execute_result",
          "data": {
            "text/plain": [
              "Empty DataFrame\n",
              "Columns: [Unnamed: 0, date, Location, lat, b7uw, b5uw, swuw, tbelow, lwdw, b2dw, b3uw, tabove, rh, b5dw, b1dw, b2uw, long, b6uw, b4uw, b7dw, b3dw, lwuw, swdw, tair, b6dw, b1uw, p, b4dw, device, datetime, hour_of_day_Z, b1_sr, b2_sr, b3_sr, b4_sr, b5_sr, b6_sr, b7_sr, lw_sr, sw_sr, site_id, group_id, minutes, hours, datetime_time, ndvi, savi, evi2, gcvi, pod_quality]\n",
              "Index: []"
            ],
            "text/html": [
              "\n",
              "  <div id=\"df-578bc2b9-2346-4e95-929e-33d79487133e\">\n",
              "    <div class=\"colab-df-container\">\n",
              "      <div>\n",
              "<style scoped>\n",
              "    .dataframe tbody tr th:only-of-type {\n",
              "        vertical-align: middle;\n",
              "    }\n",
              "\n",
              "    .dataframe tbody tr th {\n",
              "        vertical-align: top;\n",
              "    }\n",
              "\n",
              "    .dataframe thead th {\n",
              "        text-align: right;\n",
              "    }\n",
              "</style>\n",
              "<table border=\"1\" class=\"dataframe\">\n",
              "  <thead>\n",
              "    <tr style=\"text-align: right;\">\n",
              "      <th></th>\n",
              "      <th>Unnamed: 0</th>\n",
              "      <th>date</th>\n",
              "      <th>Location</th>\n",
              "      <th>lat</th>\n",
              "      <th>b7uw</th>\n",
              "      <th>b5uw</th>\n",
              "      <th>swuw</th>\n",
              "      <th>tbelow</th>\n",
              "      <th>lwdw</th>\n",
              "      <th>b2dw</th>\n",
              "      <th>b3uw</th>\n",
              "      <th>tabove</th>\n",
              "      <th>rh</th>\n",
              "      <th>b5dw</th>\n",
              "      <th>b1dw</th>\n",
              "      <th>b2uw</th>\n",
              "      <th>long</th>\n",
              "      <th>b6uw</th>\n",
              "      <th>b4uw</th>\n",
              "      <th>b7dw</th>\n",
              "      <th>b3dw</th>\n",
              "      <th>lwuw</th>\n",
              "      <th>swdw</th>\n",
              "      <th>tair</th>\n",
              "      <th>b6dw</th>\n",
              "      <th>b1uw</th>\n",
              "      <th>p</th>\n",
              "      <th>b4dw</th>\n",
              "      <th>device</th>\n",
              "      <th>datetime</th>\n",
              "      <th>hour_of_day_Z</th>\n",
              "      <th>b1_sr</th>\n",
              "      <th>b2_sr</th>\n",
              "      <th>b3_sr</th>\n",
              "      <th>b4_sr</th>\n",
              "      <th>b5_sr</th>\n",
              "      <th>b6_sr</th>\n",
              "      <th>b7_sr</th>\n",
              "      <th>lw_sr</th>\n",
              "      <th>sw_sr</th>\n",
              "      <th>site_id</th>\n",
              "      <th>group_id</th>\n",
              "      <th>minutes</th>\n",
              "      <th>hours</th>\n",
              "      <th>datetime_time</th>\n",
              "      <th>ndvi</th>\n",
              "      <th>savi</th>\n",
              "      <th>evi2</th>\n",
              "      <th>gcvi</th>\n",
              "      <th>pod_quality</th>\n",
              "    </tr>\n",
              "  </thead>\n",
              "  <tbody>\n",
              "  </tbody>\n",
              "</table>\n",
              "</div>\n",
              "      <button class=\"colab-df-convert\" onclick=\"convertToInteractive('df-578bc2b9-2346-4e95-929e-33d79487133e')\"\n",
              "              title=\"Convert this dataframe to an interactive table.\"\n",
              "              style=\"display:none;\">\n",
              "        \n",
              "  <svg xmlns=\"http://www.w3.org/2000/svg\" height=\"24px\"viewBox=\"0 0 24 24\"\n",
              "       width=\"24px\">\n",
              "    <path d=\"M0 0h24v24H0V0z\" fill=\"none\"/>\n",
              "    <path d=\"M18.56 5.44l.94 2.06.94-2.06 2.06-.94-2.06-.94-.94-2.06-.94 2.06-2.06.94zm-11 1L8.5 8.5l.94-2.06 2.06-.94-2.06-.94L8.5 2.5l-.94 2.06-2.06.94zm10 10l.94 2.06.94-2.06 2.06-.94-2.06-.94-.94-2.06-.94 2.06-2.06.94z\"/><path d=\"M17.41 7.96l-1.37-1.37c-.4-.4-.92-.59-1.43-.59-.52 0-1.04.2-1.43.59L10.3 9.45l-7.72 7.72c-.78.78-.78 2.05 0 2.83L4 21.41c.39.39.9.59 1.41.59.51 0 1.02-.2 1.41-.59l7.78-7.78 2.81-2.81c.8-.78.8-2.07 0-2.86zM5.41 20L4 18.59l7.72-7.72 1.47 1.35L5.41 20z\"/>\n",
              "  </svg>\n",
              "      </button>\n",
              "      \n",
              "  <style>\n",
              "    .colab-df-container {\n",
              "      display:flex;\n",
              "      flex-wrap:wrap;\n",
              "      gap: 12px;\n",
              "    }\n",
              "\n",
              "    .colab-df-convert {\n",
              "      background-color: #E8F0FE;\n",
              "      border: none;\n",
              "      border-radius: 50%;\n",
              "      cursor: pointer;\n",
              "      display: none;\n",
              "      fill: #1967D2;\n",
              "      height: 32px;\n",
              "      padding: 0 0 0 0;\n",
              "      width: 32px;\n",
              "    }\n",
              "\n",
              "    .colab-df-convert:hover {\n",
              "      background-color: #E2EBFA;\n",
              "      box-shadow: 0px 1px 2px rgba(60, 64, 67, 0.3), 0px 1px 3px 1px rgba(60, 64, 67, 0.15);\n",
              "      fill: #174EA6;\n",
              "    }\n",
              "\n",
              "    [theme=dark] .colab-df-convert {\n",
              "      background-color: #3B4455;\n",
              "      fill: #D2E3FC;\n",
              "    }\n",
              "\n",
              "    [theme=dark] .colab-df-convert:hover {\n",
              "      background-color: #434B5C;\n",
              "      box-shadow: 0px 1px 3px 1px rgba(0, 0, 0, 0.15);\n",
              "      filter: drop-shadow(0px 1px 2px rgba(0, 0, 0, 0.3));\n",
              "      fill: #FFFFFF;\n",
              "    }\n",
              "  </style>\n",
              "\n",
              "      <script>\n",
              "        const buttonEl =\n",
              "          document.querySelector('#df-578bc2b9-2346-4e95-929e-33d79487133e button.colab-df-convert');\n",
              "        buttonEl.style.display =\n",
              "          google.colab.kernel.accessAllowed ? 'block' : 'none';\n",
              "\n",
              "        async function convertToInteractive(key) {\n",
              "          const element = document.querySelector('#df-578bc2b9-2346-4e95-929e-33d79487133e');\n",
              "          const dataTable =\n",
              "            await google.colab.kernel.invokeFunction('convertToInteractive',\n",
              "                                                     [key], {});\n",
              "          if (!dataTable) return;\n",
              "\n",
              "          const docLinkHtml = 'Like what you see? Visit the ' +\n",
              "            '<a target=\"_blank\" href=https://colab.research.google.com/notebooks/data_table.ipynb>data table notebook</a>'\n",
              "            + ' to learn more about interactive tables.';\n",
              "          element.innerHTML = '';\n",
              "          dataTable['output_type'] = 'display_data';\n",
              "          await google.colab.output.renderOutput(dataTable, element);\n",
              "          const docLink = document.createElement('div');\n",
              "          docLink.innerHTML = docLinkHtml;\n",
              "          element.appendChild(docLink);\n",
              "        }\n",
              "      </script>\n",
              "    </div>\n",
              "  </div>\n",
              "  "
            ]
          },
          "metadata": {},
          "execution_count": 28
        }
      ]
    },
    {
      "cell_type": "code",
      "source": [
        "print(pod_dedupe.shape)\n",
        "print(pod_dedupe[pod_dedupe['ndvi'].notnull()].shape)\n",
        "print(pod_dedupe[pod_dedupe['ndvi']>1].shape)"
      ],
      "metadata": {
        "colab": {
          "base_uri": "https://localhost:8080/"
        },
        "id": "2Elbp4XZGH59",
        "outputId": "b656d070-57d9-4b50-9fc1-14b052f797e9"
      },
      "execution_count": null,
      "outputs": [
        {
          "output_type": "stream",
          "name": "stdout",
          "text": [
            "(100871, 50)\n",
            "(37421, 50)\n",
            "(0, 50)\n"
          ]
        }
      ]
    },
    {
      "cell_type": "code",
      "source": [
        "s2_dedupe = pd.read_csv(\"/content/gdrive/MyDrive/gee_phd/site_locations/joined_s2_dedupe.csv\")\n",
        "s2_dedupe = add_vi_dates(s2_dedupe, \"s2_\", \"s2_B8\", \"s2_B4\", \"s2_B3\", \"s2_datetime\", \"date\", True )\n",
        "s2_dedupe.dtypes"
      ],
      "metadata": {
        "id": "viSI-xOE5-f-"
      },
      "execution_count": null,
      "outputs": []
    },
    {
      "cell_type": "code",
      "source": [
        "import numpy as np\n",
        "\n",
        "s2_dedupe['quality'] = (s2_dedupe.s2_QA60.notnull()) & (s2_dedupe.s2_QA60 == 0) & (s2_dedupe.s2_SCL.isin([4,5]))\n",
        "cols = s2_dedupe.columns\n",
        "s2_cols = [col for col in cols if 's2_' in col]\n",
        "\n",
        "for col in s2_cols:\n",
        "  s2_dedupe.loc[s2_dedupe['quality'] == False, col] = np.NaN\n",
        "\n",
        "s2_dedupe.head(200)\n",
        "print(s2_dedupe[(s2_dedupe.s2_QA60.notnull()) & (s2_dedupe.s2_QA60 == 0) & (s2_dedupe.s2_SCL.isin([4,5]))].shape)\n",
        "print(s2_dedupe.shape)"
      ],
      "metadata": {
        "colab": {
          "base_uri": "https://localhost:8080/"
        },
        "id": "AI_EYjy3DNio",
        "outputId": "715c2ee2-aeac-4d6d-b24a-71445e1a412a"
      },
      "execution_count": null,
      "outputs": [
        {
          "output_type": "stream",
          "name": "stdout",
          "text": [
            "(10238, 37)\n",
            "(100871, 37)\n"
          ]
        }
      ]
    },
    {
      "cell_type": "code",
      "source": [
        "s2_dedupe = add_lag_variables(s2_dedupe, ['s2_ndvi', 's2_gcvi', 's2_savi', 's2_evi2'], [30, 60])\n",
        "s2_dedupe.head(500)"
      ],
      "metadata": {
        "id": "rlSO_WFg7Fyh"
      },
      "execution_count": null,
      "outputs": []
    },
    {
      "cell_type": "code",
      "source": [
        "s2_dedupe['s2_most_recent_valid_ndvi'] = s2_dedupe['s2_ndvi'].fillna(method = 'ffill')\n",
        "s2_dedupe['s2_most_recent_valid_gcvi'] = s2_dedupe['s2_gcvi'].fillna(method = 'ffill')\n",
        "s2_dedupe['s2_most_recent_valid_savi'] = s2_dedupe['s2_savi'].fillna(method = 'ffill')\n",
        "s2_dedupe['s2_most_recent_valid_evi2'] = s2_dedupe['s2_evi2'].fillna(method = 'ffill')\n",
        "\n",
        "s2_dedupe.loc[s2_dedupe['quality'] == True, 's2_days_since_last'] = 0\n",
        "s2_dedupe.loc[s2_dedupe['quality'] == False, 's2_days_since_last'] = np.NaN\n",
        "\n",
        "s2_dedupe['s2_days_since_last'] = s2_dedupe.s2_days_since_last.ffill()+ s2_dedupe.groupby(s2_dedupe.s2_days_since_last.notnull().cumsum()).cumcount()/1\n",
        "\n",
        "s2_dedupe.head(500)"
      ],
      "metadata": {
        "id": "WSYEgdjWPgSb"
      },
      "execution_count": null,
      "outputs": []
    },
    {
      "cell_type": "code",
      "source": [
        "s1_dedupe = pd.read_csv(\"/content/gdrive/MyDrive/gee_phd/site_locations/joined_s1_dedupe.csv\")\n",
        "s1_dedupe.dtypes\n",
        "s1_dedupe = add_s1_vi_dates(s1_dedupe, \"s1_\", \"s1_VV\", \"s1_VH\", \"s1_datetime\", \"date\", True)\n",
        "s1_dedupe = add_lag_variables(s1_dedupe, ['s1_VV', 's1_VH', 's1_vh_vv', 's1_vv_vh'], [30, 60], fun = 'median')\n"
      ],
      "metadata": {
        "id": "7afjjsV06e5n"
      },
      "execution_count": null,
      "outputs": []
    },
    {
      "cell_type": "code",
      "source": [
        "s1_dedupe.head(500)"
      ],
      "metadata": {
        "id": "PZ67mb1S2Evw"
      },
      "execution_count": null,
      "outputs": []
    },
    {
      "cell_type": "markdown",
      "source": [
        "VIIRS"
      ],
      "metadata": {
        "id": "HiTJOsXrjDKx"
      }
    },
    {
      "cell_type": "code",
      "source": [
        "viirs_dedupe = pd.read_csv(\"/content/gdrive/MyDrive/gee_phd/site_locations/joined_viirs_dedupe.csv\")\n",
        "viirs_dedupe = add_vi_dates(viirs_dedupe, \"VIIRS_sr_\", \"VIIRS_sr_M7\", \"VIIRS_sr_M5\", \"VIIRS_sr_M4\", \"VIIRS_sr_datetime\", \"date\", True )\n",
        "# viirs_dedupe = add_lag_variables(viirs_dedupe, ['ERA5_temperature_2m',\n",
        "#                                             'ERA5_leaf_area_index_high_vegetation',\n",
        "#                                             'ERA5_leaf_area_index_low_vegetation',\n",
        "#                                             'ERA5_surface_solar_radiation_downwards_sum',\n",
        "#                                             'ERA5_total_precipitation_sum'], [30, 60])\n",
        "viirs_dedupe.head(500)\n",
        "viirs_dedupe.shape"
      ],
      "metadata": {
        "colab": {
          "base_uri": "https://localhost:8080/"
        },
        "id": "NufKe8W98p6T",
        "outputId": "ed84abac-e805-4e07-e79b-583d67ee7918"
      },
      "execution_count": null,
      "outputs": [
        {
          "output_type": "execute_result",
          "data": {
            "text/plain": [
              "(100871, 39)"
            ]
          },
          "metadata": {},
          "execution_count": 45
        }
      ]
    },
    {
      "cell_type": "code",
      "source": [
        "viirs_dedupe = pd.read_csv(\"/content/gdrive/MyDrive/gee_phd/site_locations/joined_viirs_dedupe.csv\")\n",
        "viirs_dedupe = add_vi_dates(viirs_dedupe, \"VIIRS_sr_\", \"VIIRS_sr_M7\", \"VIIRS_sr_M5\", \"VIIRS_sr_M4\", \"VIIRS_sr_datetime\", \"date\", True )\n",
        "# viirs_dedupe = add_lag_variables(viirs_dedupe, ['ERA5_temperature_2m',\n",
        "#                                             'ERA5_leaf_area_index_high_vegetation',\n",
        "#                                             'ERA5_leaf_area_index_low_vegetation',\n",
        "#                                             'ERA5_surface_solar_radiation_downwards_sum',\n",
        "#                                             'ERA5_total_precipitation_sum'], [30, 60])\n",
        "viirs_dedupe.head(500)\n",
        "viirs_dedupe.shape"
      ],
      "metadata": {
        "id": "70B6HCXYVSDe"
      },
      "execution_count": null,
      "outputs": []
    },
    {
      "cell_type": "code",
      "source": [
        "print(pod_dedupe.shape)\n",
        "all_joined = pod_dedupe.merge(s2_dedupe, on=['date', 'Location'], how = 'left').merge(s1_dedupe, on=['date', 'Location'], how = 'left').merge(era_dedupe, on=['date', 'Location'], how = 'left').merge(viirs_dedupe, on = ['date', 'Location'], how = 'left').merge(MOD09GA_dedupe, on = ['date', 'Location'], how = 'left').merge(MYD09GA_dedupe, on = ['date', 'Location'], how = 'left')\n",
        "print(all_joined.shape)\n",
        "all_joined.head(500)\n",
        "all_joined.to_csv(\"/content/gdrive/MyDrive/gee_phd/site_locations/all_joined.csv\")"
      ],
      "metadata": {
        "colab": {
          "base_uri": "https://localhost:8080/"
        },
        "id": "nzFWg-5gHqWa",
        "outputId": "67c716f0-121e-4fcd-e013-3b46b6fd4d3e"
      },
      "execution_count": null,
      "outputs": [
        {
          "output_type": "stream",
          "name": "stdout",
          "text": [
            "(100871, 50)\n",
            "(100871, 276)\n"
          ]
        }
      ]
    },
    {
      "cell_type": "markdown",
      "source": [
        "Filtering"
      ],
      "metadata": {
        "id": "c9lSL92BL5yy"
      }
    },
    {
      "cell_type": "code",
      "source": [
        "all_filt = list()\n",
        "\n",
        "for current_site in unique_sites:\n",
        "\n",
        "  print(current_site)\n",
        "  df_filt = all_joined[all_joined['Location'] == current_site]\n",
        " # df_filt = df_filt.reset_index()\n",
        "#  print(df_filt.shape)\n",
        "  df_filt = df_filt.reset_index()\n",
        "  first_s2 = df_filt[df_filt.quality == True].first_valid_index()\n",
        "  if first_s2 == None:\n",
        "    print('no valid obs')\n",
        "    continue\n",
        "#  df_filt = df_filt.iloc[first_s2:]\n",
        "  print(first_s2)\n",
        "  print(first_s2 == None)\n",
        "  all_filt.append(df_filt)\n",
        "#df_filt.head(10)\n",
        "all_filt = pd.concat(all_filt)\n",
        "print(all_filt.shape)\n",
        "all_filt.head(500)\n",
        "\n",
        "#df_filt.head(20)\n",
        "\n",
        "## filter out Whittier 2020 midslope\n",
        "## filter out all observations before first valid S2 obs."
      ],
      "metadata": {
        "id": "tRIhA6OVL67V"
      },
      "execution_count": null,
      "outputs": []
    },
    {
      "cell_type": "code",
      "source": [
        "#all_joined[all_joined['Location'] == unique_sites[1]].iloc[5:]"
      ],
      "metadata": {
        "id": "c_QHahkjpefJ"
      },
      "execution_count": null,
      "outputs": []
    },
    {
      "cell_type": "code",
      "source": [
        "all_filt.shape"
      ],
      "metadata": {
        "colab": {
          "base_uri": "https://localhost:8080/"
        },
        "id": "OHUPn_cUk6ax",
        "outputId": "2e49c43f-6d5d-46b0-b10a-84d46799bdca"
      },
      "execution_count": null,
      "outputs": [
        {
          "output_type": "execute_result",
          "data": {
            "text/plain": [
              "(95891, 277)"
            ]
          },
          "metadata": {},
          "execution_count": 57
        }
      ]
    },
    {
      "cell_type": "code",
      "source": [
        "#all_filt[(all_filt.ERA5_temperature_2m.isnull()) & (all_filt.ndvi.notnull())].head(300)\n",
        "all_filt = all_filt[all_filt.Location != 'whittier_midslope_2020' ]\n",
        "print(all_filt.shape)\n",
        "\n",
        "all_filt_valid_pod = all_filt[all_filt.ndvi.notnull()]\n",
        "print(all_filt_valid_pod.shape)\n"
      ],
      "metadata": {
        "colab": {
          "base_uri": "https://localhost:8080/"
        },
        "id": "jFqf3ZlLQTsF",
        "outputId": "22f58a3d-2ae5-48d5-c508-f789c261f52a"
      },
      "execution_count": null,
      "outputs": [
        {
          "output_type": "stream",
          "name": "stdout",
          "text": [
            "(95618, 277)\n",
            "(33481, 277)\n"
          ]
        }
      ]
    },
    {
      "cell_type": "code",
      "source": [
        "all_filt.to_csv(\"/content/gdrive/MyDrive/gee_phd/site_locations/all_filt.csv\")\n",
        "all_filt_valid_pod.to_csv(\"/content/gdrive/MyDrive/gee_phd/site_locations/all_filt_valid_pod.csv\")"
      ],
      "metadata": {
        "id": "QYFk9D5fTFJw"
      },
      "execution_count": null,
      "outputs": []
    }
  ],
  "metadata": {
    "colab": {
      "provenance": []
    },
    "kernelspec": {
      "display_name": "Python 3",
      "name": "python3"
    },
    "language_info": {
      "name": "python"
    }
  },
  "nbformat": 4,
  "nbformat_minor": 0
}