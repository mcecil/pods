{
  "cells": [
    {
      "cell_type": "markdown",
      "source": [
        "This script downloads Sentinel-1 imagery from Google Earth Engine to Google Drive.\n",
        "\n",
        "It assumes individual assets have been created on Google Earth Engine for site locations, although this is not necessary.\n",
        "\n",
        "The script requires a .csv file of site locations, \"new_site_data.csv\".\n",
        "\n",
        "Sentinel-1 .tif files are exported to Google Drive, to be downloaded and then processed using a guided filter. They are exported to the folders \"s1_batch_A\" (for Ascending) and \"s1_batch_D\" (for Descending)."
      ],
      "metadata": {
        "id": "MC4aNEOU9EwA"
      }
    },
    {
      "cell_type": "code",
      "execution_count": null,
      "metadata": {
        "id": "AOvxAFOy6i5N"
      },
      "outputs": [],
      "source": [
        "!pip install geemap\n"
      ]
    },
    {
      "cell_type": "code",
      "execution_count": null,
      "metadata": {
        "id": "Mf7K5z9X6W1z"
      },
      "outputs": [],
      "source": [
        "import ee\n",
        "import geemap\n",
        "import os\n",
        "import pandas as pd"
      ]
    },
    {
      "cell_type": "code",
      "execution_count": null,
      "metadata": {
        "id": "DNDE93uW6ZFB"
      },
      "outputs": [],
      "source": [
        "Map = geemap.Map()\n",
        "Map"
      ]
    },
    {
      "cell_type": "code",
      "execution_count": null,
      "metadata": {
        "colab": {
          "base_uri": "https://localhost:8080/"
        },
        "id": "aLPqeh5rYeV5",
        "outputId": "80474c3c-b53a-4a12-df64-758d3ea509f3"
      },
      "outputs": [
        {
          "output_type": "stream",
          "name": "stdout",
          "text": [
            "Mounted at /content/gdrive\n"
          ]
        }
      ],
      "source": [
        "from google.colab import drive\n",
        "drive.mount(\"/content/gdrive\")"
      ]
    },
    {
      "cell_type": "markdown",
      "source": [],
      "metadata": {
        "id": "QBngCjYrwIkg"
      }
    },
    {
      "cell_type": "code",
      "source": [
        "sites = pd.read_csv('/content/new_site_data.csv')\n",
        "sites.head(5)"
      ],
      "metadata": {
        "colab": {
          "base_uri": "https://localhost:8080/",
          "height": 250
        },
        "id": "V8jq7tHmug4m",
        "outputId": "e0c7f4cd-6442-42c9-aa54-c51a8b860106"
      },
      "execution_count": null,
      "outputs": [
        {
          "output_type": "execute_result",
          "data": {
            "text/plain": [
              "        Location   new_start     new_end   X      lon      lat     Pod1 Pod2  \\\n",
              "0  choma_A000127  2017-09-02  2018-03-02  22  27.0922 -16.7795  A000127  NaN   \n",
              "1  choma_A000127  2018-03-02  2018-07-30  22  27.0922 -16.7795  A000127  NaN   \n",
              "2  choma_A000212  2017-09-02  2018-03-02  23  26.9253 -16.8294  A000212  NaN   \n",
              "3  choma_A000212  2018-03-02  2018-07-30  23  26.9253 -16.8294  A000212  NaN   \n",
              "4  choma_A000247  2017-09-02  2018-03-02  24  27.1179 -16.7724  A000247  NaN   \n",
              "\n",
              "  Pod3  Group  start_date    end_date  Ortho  Scene  \\\n",
              "0  NaN  choma  11/01/2017  05/31/2018      0     85   \n",
              "1  NaN  choma  11/01/2017  05/31/2018      0     85   \n",
              "2  NaN  choma  11/01/2017  05/31/2018      0      2   \n",
              "3  NaN  choma  11/01/2017  05/31/2018      0      2   \n",
              "4  NaN  choma  11/01/2017  05/31/2018      0     76   \n",
              "\n",
              "                           order_id_s_h  \n",
              "0  0d688599-b6bb-47d8-a3cd-a6a8d736ec5b  \n",
              "1  0d688599-b6bb-47d8-a3cd-a6a8d736ec5b  \n",
              "2  97cfdbe9-39d1-41ab-8e6e-3d355b598b85  \n",
              "3  97cfdbe9-39d1-41ab-8e6e-3d355b598b85  \n",
              "4  95c69caa-67fa-405f-ae2d-0456838c7272  "
            ],
            "text/html": [
              "\n",
              "  <div id=\"df-bb6b48ba-c663-48f2-bdf3-92297ad58a06\">\n",
              "    <div class=\"colab-df-container\">\n",
              "      <div>\n",
              "<style scoped>\n",
              "    .dataframe tbody tr th:only-of-type {\n",
              "        vertical-align: middle;\n",
              "    }\n",
              "\n",
              "    .dataframe tbody tr th {\n",
              "        vertical-align: top;\n",
              "    }\n",
              "\n",
              "    .dataframe thead th {\n",
              "        text-align: right;\n",
              "    }\n",
              "</style>\n",
              "<table border=\"1\" class=\"dataframe\">\n",
              "  <thead>\n",
              "    <tr style=\"text-align: right;\">\n",
              "      <th></th>\n",
              "      <th>Location</th>\n",
              "      <th>new_start</th>\n",
              "      <th>new_end</th>\n",
              "      <th>X</th>\n",
              "      <th>lon</th>\n",
              "      <th>lat</th>\n",
              "      <th>Pod1</th>\n",
              "      <th>Pod2</th>\n",
              "      <th>Pod3</th>\n",
              "      <th>Group</th>\n",
              "      <th>start_date</th>\n",
              "      <th>end_date</th>\n",
              "      <th>Ortho</th>\n",
              "      <th>Scene</th>\n",
              "      <th>order_id_s_h</th>\n",
              "    </tr>\n",
              "  </thead>\n",
              "  <tbody>\n",
              "    <tr>\n",
              "      <th>0</th>\n",
              "      <td>choma_A000127</td>\n",
              "      <td>2017-09-02</td>\n",
              "      <td>2018-03-02</td>\n",
              "      <td>22</td>\n",
              "      <td>27.0922</td>\n",
              "      <td>-16.7795</td>\n",
              "      <td>A000127</td>\n",
              "      <td>NaN</td>\n",
              "      <td>NaN</td>\n",
              "      <td>choma</td>\n",
              "      <td>11/01/2017</td>\n",
              "      <td>05/31/2018</td>\n",
              "      <td>0</td>\n",
              "      <td>85</td>\n",
              "      <td>0d688599-b6bb-47d8-a3cd-a6a8d736ec5b</td>\n",
              "    </tr>\n",
              "    <tr>\n",
              "      <th>1</th>\n",
              "      <td>choma_A000127</td>\n",
              "      <td>2018-03-02</td>\n",
              "      <td>2018-07-30</td>\n",
              "      <td>22</td>\n",
              "      <td>27.0922</td>\n",
              "      <td>-16.7795</td>\n",
              "      <td>A000127</td>\n",
              "      <td>NaN</td>\n",
              "      <td>NaN</td>\n",
              "      <td>choma</td>\n",
              "      <td>11/01/2017</td>\n",
              "      <td>05/31/2018</td>\n",
              "      <td>0</td>\n",
              "      <td>85</td>\n",
              "      <td>0d688599-b6bb-47d8-a3cd-a6a8d736ec5b</td>\n",
              "    </tr>\n",
              "    <tr>\n",
              "      <th>2</th>\n",
              "      <td>choma_A000212</td>\n",
              "      <td>2017-09-02</td>\n",
              "      <td>2018-03-02</td>\n",
              "      <td>23</td>\n",
              "      <td>26.9253</td>\n",
              "      <td>-16.8294</td>\n",
              "      <td>A000212</td>\n",
              "      <td>NaN</td>\n",
              "      <td>NaN</td>\n",
              "      <td>choma</td>\n",
              "      <td>11/01/2017</td>\n",
              "      <td>05/31/2018</td>\n",
              "      <td>0</td>\n",
              "      <td>2</td>\n",
              "      <td>97cfdbe9-39d1-41ab-8e6e-3d355b598b85</td>\n",
              "    </tr>\n",
              "    <tr>\n",
              "      <th>3</th>\n",
              "      <td>choma_A000212</td>\n",
              "      <td>2018-03-02</td>\n",
              "      <td>2018-07-30</td>\n",
              "      <td>23</td>\n",
              "      <td>26.9253</td>\n",
              "      <td>-16.8294</td>\n",
              "      <td>A000212</td>\n",
              "      <td>NaN</td>\n",
              "      <td>NaN</td>\n",
              "      <td>choma</td>\n",
              "      <td>11/01/2017</td>\n",
              "      <td>05/31/2018</td>\n",
              "      <td>0</td>\n",
              "      <td>2</td>\n",
              "      <td>97cfdbe9-39d1-41ab-8e6e-3d355b598b85</td>\n",
              "    </tr>\n",
              "    <tr>\n",
              "      <th>4</th>\n",
              "      <td>choma_A000247</td>\n",
              "      <td>2017-09-02</td>\n",
              "      <td>2018-03-02</td>\n",
              "      <td>24</td>\n",
              "      <td>27.1179</td>\n",
              "      <td>-16.7724</td>\n",
              "      <td>A000247</td>\n",
              "      <td>NaN</td>\n",
              "      <td>NaN</td>\n",
              "      <td>choma</td>\n",
              "      <td>11/01/2017</td>\n",
              "      <td>05/31/2018</td>\n",
              "      <td>0</td>\n",
              "      <td>76</td>\n",
              "      <td>95c69caa-67fa-405f-ae2d-0456838c7272</td>\n",
              "    </tr>\n",
              "  </tbody>\n",
              "</table>\n",
              "</div>\n",
              "      <button class=\"colab-df-convert\" onclick=\"convertToInteractive('df-bb6b48ba-c663-48f2-bdf3-92297ad58a06')\"\n",
              "              title=\"Convert this dataframe to an interactive table.\"\n",
              "              style=\"display:none;\">\n",
              "        \n",
              "  <svg xmlns=\"http://www.w3.org/2000/svg\" height=\"24px\"viewBox=\"0 0 24 24\"\n",
              "       width=\"24px\">\n",
              "    <path d=\"M0 0h24v24H0V0z\" fill=\"none\"/>\n",
              "    <path d=\"M18.56 5.44l.94 2.06.94-2.06 2.06-.94-2.06-.94-.94-2.06-.94 2.06-2.06.94zm-11 1L8.5 8.5l.94-2.06 2.06-.94-2.06-.94L8.5 2.5l-.94 2.06-2.06.94zm10 10l.94 2.06.94-2.06 2.06-.94-2.06-.94-.94-2.06-.94 2.06-2.06.94z\"/><path d=\"M17.41 7.96l-1.37-1.37c-.4-.4-.92-.59-1.43-.59-.52 0-1.04.2-1.43.59L10.3 9.45l-7.72 7.72c-.78.78-.78 2.05 0 2.83L4 21.41c.39.39.9.59 1.41.59.51 0 1.02-.2 1.41-.59l7.78-7.78 2.81-2.81c.8-.78.8-2.07 0-2.86zM5.41 20L4 18.59l7.72-7.72 1.47 1.35L5.41 20z\"/>\n",
              "  </svg>\n",
              "      </button>\n",
              "      \n",
              "  <style>\n",
              "    .colab-df-container {\n",
              "      display:flex;\n",
              "      flex-wrap:wrap;\n",
              "      gap: 12px;\n",
              "    }\n",
              "\n",
              "    .colab-df-convert {\n",
              "      background-color: #E8F0FE;\n",
              "      border: none;\n",
              "      border-radius: 50%;\n",
              "      cursor: pointer;\n",
              "      display: none;\n",
              "      fill: #1967D2;\n",
              "      height: 32px;\n",
              "      padding: 0 0 0 0;\n",
              "      width: 32px;\n",
              "    }\n",
              "\n",
              "    .colab-df-convert:hover {\n",
              "      background-color: #E2EBFA;\n",
              "      box-shadow: 0px 1px 2px rgba(60, 64, 67, 0.3), 0px 1px 3px 1px rgba(60, 64, 67, 0.15);\n",
              "      fill: #174EA6;\n",
              "    }\n",
              "\n",
              "    [theme=dark] .colab-df-convert {\n",
              "      background-color: #3B4455;\n",
              "      fill: #D2E3FC;\n",
              "    }\n",
              "\n",
              "    [theme=dark] .colab-df-convert:hover {\n",
              "      background-color: #434B5C;\n",
              "      box-shadow: 0px 1px 3px 1px rgba(0, 0, 0, 0.15);\n",
              "      filter: drop-shadow(0px 1px 2px rgba(0, 0, 0, 0.3));\n",
              "      fill: #FFFFFF;\n",
              "    }\n",
              "  </style>\n",
              "\n",
              "      <script>\n",
              "        const buttonEl =\n",
              "          document.querySelector('#df-bb6b48ba-c663-48f2-bdf3-92297ad58a06 button.colab-df-convert');\n",
              "        buttonEl.style.display =\n",
              "          google.colab.kernel.accessAllowed ? 'block' : 'none';\n",
              "\n",
              "        async function convertToInteractive(key) {\n",
              "          const element = document.querySelector('#df-bb6b48ba-c663-48f2-bdf3-92297ad58a06');\n",
              "          const dataTable =\n",
              "            await google.colab.kernel.invokeFunction('convertToInteractive',\n",
              "                                                     [key], {});\n",
              "          if (!dataTable) return;\n",
              "\n",
              "          const docLinkHtml = 'Like what you see? Visit the ' +\n",
              "            '<a target=\"_blank\" href=https://colab.research.google.com/notebooks/data_table.ipynb>data table notebook</a>'\n",
              "            + ' to learn more about interactive tables.';\n",
              "          element.innerHTML = '';\n",
              "          dataTable['output_type'] = 'display_data';\n",
              "          await google.colab.output.renderOutput(dataTable, element);\n",
              "          const docLink = document.createElement('div');\n",
              "          docLink.innerHTML = docLinkHtml;\n",
              "          element.appendChild(docLink);\n",
              "        }\n",
              "      </script>\n",
              "    </div>\n",
              "  </div>\n",
              "  "
            ]
          },
          "metadata": {},
          "execution_count": 10
        }
      ]
    },
    {
      "cell_type": "markdown",
      "source": [
        "Query and download Sentinel-1 files"
      ],
      "metadata": {
        "id": "yvfE49ts9A-k"
      }
    },
    {
      "cell_type": "code",
      "source": [
        "def toNatural(img):\n",
        "  vv_nat = ee.Image(10.0).pow(img.select('VV').divide(10.0)).rename('VV')\n",
        "  vh_nat = ee.Image(10.0).pow(img.select('VH').divide(10.0)).rename('VH')\n",
        "  angle = img.select('angle')\n",
        "  return vv_nat.addBands(vh_nat).addBands(angle).copyProperties(img)\n",
        "\n",
        "def clip_roi(image, roi):\n",
        "  return (image.clip(roi).copyProperties(image))\n",
        "\n",
        "\n",
        "for k in range(len(sites)):\n",
        "  current_site = sites.Location[k]\n",
        "  print(current_site)\n",
        "  print(k)\n",
        "  long = sites.lon[k]\n",
        "  lat = sites.lat[k]\n",
        "  start_date = sites.new_start[k]\n",
        "  end_date = sites.new_end[k]\n",
        "  point_buffer = ee.Geometry.Point(long, lat).buffer(100).bounds()\n",
        "  coll = ee.ImageCollection(\"COPERNICUS/S1_GRD\").filterDate(start_date, end_date).filterBounds(point_buffer).map(toNatural).map(lambda image: clip_roi(image, point_buffer)).filter(ee.Filter.eq('orbitProperties_pass', 'ASCENDING'))\n",
        "\n",
        "\n",
        "    # download using geemap\n",
        "  geemap.ee_export_image_collection(\n",
        "      coll,\n",
        "      out_dir = \"/content/gdrive/MyDrive/s1_batch_A/\" + current_site + \"/\",\n",
        "      scale=10,\n",
        "    #  crs=None,\n",
        "      region=point_buffer,\n",
        "      file_per_band=False,\n",
        "      timeout=300,\n",
        "      proxies=None\n",
        "  )\n",
        "\n",
        "  coll = ee.ImageCollection(\"COPERNICUS/S1_GRD\").filterDate(start_date, end_date).filterBounds(point_buffer).map(toNatural).map(lambda image: clip_roi(image, point_buffer)).filter(ee.Filter.eq('orbitProperties_pass', 'DESCENDING'))\n",
        "\n",
        "\n",
        "    # download using geemap\n",
        "  geemap.ee_export_image_collection(\n",
        "      coll,\n",
        "      out_dir = \"/content/gdrive/MyDrive/s1_batch_D/\" + current_site + \"/\",\n",
        "      scale=10,\n",
        "    #  crs=None,\n",
        "      region=point_buffer,\n",
        "      file_per_band=False,\n",
        "      timeout=300,\n",
        "      proxies=None\n",
        "  )\n",
        "\n",
        "\n"
      ],
      "metadata": {
        "id": "irsEPD3vv1xF"
      },
      "execution_count": null,
      "outputs": []
    }
  ],
  "metadata": {
    "colab": {
      "provenance": []
    },
    "kernelspec": {
      "display_name": "Python 3",
      "name": "python3"
    },
    "language_info": {
      "name": "python"
    }
  },
  "nbformat": 4,
  "nbformat_minor": 0
}